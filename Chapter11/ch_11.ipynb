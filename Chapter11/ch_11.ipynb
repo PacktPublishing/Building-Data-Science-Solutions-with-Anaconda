{
 "cells": [
  {
   "cell_type": "markdown",
   "id": "10dc8126",
   "metadata": {},
   "source": [
    "# Building a scikit-learn pipeline"
   ]
  },
  {
   "cell_type": "code",
   "execution_count": 1,
   "id": "0f1a7010",
   "metadata": {},
   "outputs": [],
   "source": [
    "import pandas as pd\n",
    "import numpy as np\n",
    "\n",
    "from sklearn.pipeline import Pipeline, make_pipeline\n",
    "from sklearn.preprocessing import StandardScaler\n",
    "from sklearn.model_selection import train_test_split\n",
    "from sklearn.datasets import fetch_california_housing\n",
    "\n",
    "from sklearn.impute import SimpleImputer\n",
    "\n",
    "from sklearn.linear_model import LinearRegression\n",
    "from sklearn.tree import DecisionTreeRegressor\n",
    "from sklearn.ensemble import RandomForestRegressor\n",
    "\n",
    "from sklearn.model_selection import GridSearchCV\n",
    "from sklearn import __version__ as scikit_version\n",
    "\n",
    "import pickle\n",
    "import joblib"
   ]
  },
  {
   "cell_type": "code",
   "execution_count": 2,
   "id": "2c0168dc",
   "metadata": {},
   "outputs": [
    {
     "data": {
      "text/html": [
       "<div>\n",
       "<style scoped>\n",
       "    .dataframe tbody tr th:only-of-type {\n",
       "        vertical-align: middle;\n",
       "    }\n",
       "\n",
       "    .dataframe tbody tr th {\n",
       "        vertical-align: top;\n",
       "    }\n",
       "\n",
       "    .dataframe thead th {\n",
       "        text-align: right;\n",
       "    }\n",
       "</style>\n",
       "<table border=\"1\" class=\"dataframe\">\n",
       "  <thead>\n",
       "    <tr style=\"text-align: right;\">\n",
       "      <th></th>\n",
       "      <th>MedInc</th>\n",
       "      <th>HouseAge</th>\n",
       "      <th>AveRooms</th>\n",
       "      <th>AveBedrms</th>\n",
       "      <th>Population</th>\n",
       "      <th>AveOccup</th>\n",
       "      <th>Latitude</th>\n",
       "      <th>Longitude</th>\n",
       "    </tr>\n",
       "  </thead>\n",
       "  <tbody>\n",
       "    <tr>\n",
       "      <th>0</th>\n",
       "      <td>8.3252</td>\n",
       "      <td>41.0</td>\n",
       "      <td>6.984127</td>\n",
       "      <td>1.023810</td>\n",
       "      <td>322.0</td>\n",
       "      <td>2.555556</td>\n",
       "      <td>37.88</td>\n",
       "      <td>-122.23</td>\n",
       "    </tr>\n",
       "    <tr>\n",
       "      <th>1</th>\n",
       "      <td>8.3014</td>\n",
       "      <td>21.0</td>\n",
       "      <td>6.238137</td>\n",
       "      <td>0.971880</td>\n",
       "      <td>2401.0</td>\n",
       "      <td>2.109842</td>\n",
       "      <td>37.86</td>\n",
       "      <td>-122.22</td>\n",
       "    </tr>\n",
       "    <tr>\n",
       "      <th>2</th>\n",
       "      <td>7.2574</td>\n",
       "      <td>52.0</td>\n",
       "      <td>8.288136</td>\n",
       "      <td>1.073446</td>\n",
       "      <td>496.0</td>\n",
       "      <td>2.802260</td>\n",
       "      <td>37.85</td>\n",
       "      <td>-122.24</td>\n",
       "    </tr>\n",
       "    <tr>\n",
       "      <th>3</th>\n",
       "      <td>5.6431</td>\n",
       "      <td>52.0</td>\n",
       "      <td>5.817352</td>\n",
       "      <td>1.073059</td>\n",
       "      <td>558.0</td>\n",
       "      <td>2.547945</td>\n",
       "      <td>37.85</td>\n",
       "      <td>-122.25</td>\n",
       "    </tr>\n",
       "    <tr>\n",
       "      <th>4</th>\n",
       "      <td>3.8462</td>\n",
       "      <td>52.0</td>\n",
       "      <td>6.281853</td>\n",
       "      <td>1.081081</td>\n",
       "      <td>565.0</td>\n",
       "      <td>2.181467</td>\n",
       "      <td>37.85</td>\n",
       "      <td>-122.25</td>\n",
       "    </tr>\n",
       "    <tr>\n",
       "      <th>...</th>\n",
       "      <td>...</td>\n",
       "      <td>...</td>\n",
       "      <td>...</td>\n",
       "      <td>...</td>\n",
       "      <td>...</td>\n",
       "      <td>...</td>\n",
       "      <td>...</td>\n",
       "      <td>...</td>\n",
       "    </tr>\n",
       "    <tr>\n",
       "      <th>20635</th>\n",
       "      <td>1.5603</td>\n",
       "      <td>25.0</td>\n",
       "      <td>5.045455</td>\n",
       "      <td>1.133333</td>\n",
       "      <td>845.0</td>\n",
       "      <td>2.560606</td>\n",
       "      <td>39.48</td>\n",
       "      <td>-121.09</td>\n",
       "    </tr>\n",
       "    <tr>\n",
       "      <th>20636</th>\n",
       "      <td>2.5568</td>\n",
       "      <td>18.0</td>\n",
       "      <td>6.114035</td>\n",
       "      <td>1.315789</td>\n",
       "      <td>356.0</td>\n",
       "      <td>3.122807</td>\n",
       "      <td>39.49</td>\n",
       "      <td>-121.21</td>\n",
       "    </tr>\n",
       "    <tr>\n",
       "      <th>20637</th>\n",
       "      <td>1.7000</td>\n",
       "      <td>17.0</td>\n",
       "      <td>5.205543</td>\n",
       "      <td>1.120092</td>\n",
       "      <td>1007.0</td>\n",
       "      <td>2.325635</td>\n",
       "      <td>39.43</td>\n",
       "      <td>-121.22</td>\n",
       "    </tr>\n",
       "    <tr>\n",
       "      <th>20638</th>\n",
       "      <td>1.8672</td>\n",
       "      <td>18.0</td>\n",
       "      <td>5.329513</td>\n",
       "      <td>1.171920</td>\n",
       "      <td>741.0</td>\n",
       "      <td>2.123209</td>\n",
       "      <td>39.43</td>\n",
       "      <td>-121.32</td>\n",
       "    </tr>\n",
       "    <tr>\n",
       "      <th>20639</th>\n",
       "      <td>2.3886</td>\n",
       "      <td>16.0</td>\n",
       "      <td>5.254717</td>\n",
       "      <td>1.162264</td>\n",
       "      <td>1387.0</td>\n",
       "      <td>2.616981</td>\n",
       "      <td>39.37</td>\n",
       "      <td>-121.24</td>\n",
       "    </tr>\n",
       "  </tbody>\n",
       "</table>\n",
       "<p>20640 rows × 8 columns</p>\n",
       "</div>"
      ],
      "text/plain": [
       "       MedInc  HouseAge  AveRooms  AveBedrms  Population  AveOccup  Latitude  \\\n",
       "0      8.3252      41.0  6.984127   1.023810       322.0  2.555556     37.88   \n",
       "1      8.3014      21.0  6.238137   0.971880      2401.0  2.109842     37.86   \n",
       "2      7.2574      52.0  8.288136   1.073446       496.0  2.802260     37.85   \n",
       "3      5.6431      52.0  5.817352   1.073059       558.0  2.547945     37.85   \n",
       "4      3.8462      52.0  6.281853   1.081081       565.0  2.181467     37.85   \n",
       "...       ...       ...       ...        ...         ...       ...       ...   \n",
       "20635  1.5603      25.0  5.045455   1.133333       845.0  2.560606     39.48   \n",
       "20636  2.5568      18.0  6.114035   1.315789       356.0  3.122807     39.49   \n",
       "20637  1.7000      17.0  5.205543   1.120092      1007.0  2.325635     39.43   \n",
       "20638  1.8672      18.0  5.329513   1.171920       741.0  2.123209     39.43   \n",
       "20639  2.3886      16.0  5.254717   1.162264      1387.0  2.616981     39.37   \n",
       "\n",
       "       Longitude  \n",
       "0        -122.23  \n",
       "1        -122.22  \n",
       "2        -122.24  \n",
       "3        -122.25  \n",
       "4        -122.25  \n",
       "...          ...  \n",
       "20635    -121.09  \n",
       "20636    -121.21  \n",
       "20637    -121.22  \n",
       "20638    -121.32  \n",
       "20639    -121.24  \n",
       "\n",
       "[20640 rows x 8 columns]"
      ]
     },
     "execution_count": 2,
     "metadata": {},
     "output_type": "execute_result"
    }
   ],
   "source": [
    "cali_data = fetch_california_housing(as_frame=True)\n",
    "cali_data.data"
   ]
  },
  {
   "cell_type": "code",
   "execution_count": 3,
   "id": "a7d0be86",
   "metadata": {},
   "outputs": [],
   "source": [
    "training_data = cali_data.data\n",
    "target_value = cali_data.target\n",
    "\n",
    "X_train, X_test, y_train, y_test = train_test_split(training_data, target_value, test_size = 0.2, random_state=5) "
   ]
  },
  {
   "cell_type": "code",
   "execution_count": 4,
   "id": "8875b28e",
   "metadata": {},
   "outputs": [],
   "source": [
    "pipeline = Pipeline([\n",
    "    ('imputer', SimpleImputer()),\n",
    "    ('std_scaler', StandardScaler()),\n",
    "    ('algorithm_regression', LinearRegression())\n",
    "    ])"
   ]
  },
  {
   "cell_type": "code",
   "execution_count": 5,
   "id": "4f4a36a2",
   "metadata": {},
   "outputs": [
    {
     "data": {
      "text/plain": [
       "Pipeline(steps=[('imputer', SimpleImputer()), ('std_scaler', StandardScaler()),\n",
       "                ('algorithm_regression', LinearRegression())])"
      ]
     },
     "execution_count": 5,
     "metadata": {},
     "output_type": "execute_result"
    }
   ],
   "source": [
    "pipeline.fit(X_train, y_train)"
   ]
  },
  {
   "cell_type": "code",
   "execution_count": 6,
   "id": "5f94a61b",
   "metadata": {},
   "outputs": [
    {
     "name": "stdout",
     "output_type": "stream",
     "text": [
      "Training set score: 0.60\n",
      "Test  set score: 0.61\n"
     ]
    }
   ],
   "source": [
    "train_score = pipeline.score(X_train,y_train)\n",
    "test_score = pipeline.score(X_test,y_test)\n",
    "\n",
    "print(f\"Training set score: {train_score:.2f}\")\n",
    "print(f\"Test  set score: {test_score:.2f}\")"
   ]
  },
  {
   "cell_type": "markdown",
   "id": "1d12fb53",
   "metadata": {},
   "source": [
    "## Checking different model types"
   ]
  },
  {
   "cell_type": "code",
   "execution_count": 7,
   "id": "9291ff3e",
   "metadata": {
    "scrolled": true
   },
   "outputs": [
    {
     "name": "stdout",
     "output_type": "stream",
     "text": [
      "LinearRegression() training set score: 0.60\n",
      "DecisionTreeRegressor(max_depth=5) training set score: 0.63\n",
      "RandomForestRegressor(max_depth=5) training set score: 0.67\n"
     ]
    }
   ],
   "source": [
    "alg_choices = [LinearRegression(),\n",
    "               DecisionTreeRegressor(max_depth=5),\n",
    "               RandomForestRegressor(max_depth=5)]\n",
    "\n",
    "pipelines = {}\n",
    "\n",
    "for alg in alg_choices:\n",
    "    pipeline = Pipeline([\n",
    "    ('imputer', SimpleImputer()),\n",
    "    ('std_scaler', StandardScaler()),\n",
    "    ('algorithm', alg)\n",
    "    ])\n",
    "    \n",
    "    pipeline.fit(X_train, y_train)\n",
    "    \n",
    "    train_score = pipeline.score(X_train,y_train)\n",
    "    \n",
    "    pipelines[type(alg).__name__] = pipeline\n",
    "    \n",
    "    print(f\"{str(alg)} training set score: {train_score:0.2f}\")"
   ]
  },
  {
   "cell_type": "code",
   "execution_count": 8,
   "id": "96a85adf",
   "metadata": {
    "scrolled": true
   },
   "outputs": [
    {
     "data": {
      "text/plain": [
       "[('imputer', SimpleImputer()),\n",
       " ('std_scaler', StandardScaler()),\n",
       " ('algorithm', RandomForestRegressor(max_depth=5))]"
      ]
     },
     "execution_count": 8,
     "metadata": {},
     "output_type": "execute_result"
    }
   ],
   "source": [
    "pipeline.steps"
   ]
  },
  {
   "cell_type": "code",
   "execution_count": 9,
   "id": "e71ce191",
   "metadata": {
    "scrolled": true
   },
   "outputs": [
    {
     "data": {
      "text/plain": [
       "('imputer', SimpleImputer())"
      ]
     },
     "execution_count": 9,
     "metadata": {},
     "output_type": "execute_result"
    }
   ],
   "source": [
    "pipeline.steps[0]"
   ]
  },
  {
   "cell_type": "code",
   "execution_count": 10,
   "id": "ec61ad90",
   "metadata": {
    "scrolled": true
   },
   "outputs": [
    {
     "data": {
      "text/plain": [
       "SimpleImputer()"
      ]
     },
     "execution_count": 10,
     "metadata": {},
     "output_type": "execute_result"
    }
   ],
   "source": [
    "pipeline[0]"
   ]
  },
  {
   "cell_type": "code",
   "execution_count": 11,
   "id": "250e34b2",
   "metadata": {},
   "outputs": [
    {
     "data": {
      "text/plain": [
       "'mean'"
      ]
     },
     "execution_count": 11,
     "metadata": {},
     "output_type": "execute_result"
    }
   ],
   "source": [
    "pipeline[0].strategy"
   ]
  },
  {
   "cell_type": "markdown",
   "id": "2cae40ff",
   "metadata": {},
   "source": [
    "## Make_pipeline"
   ]
  },
  {
   "cell_type": "code",
   "execution_count": 12,
   "id": "3a3517dc",
   "metadata": {},
   "outputs": [],
   "source": [
    "from sklearn.pipeline import make_pipeline\n",
    "\n",
    "pipeline = make_pipeline(\n",
    "    (SimpleImputer(missing_values=np.nan, strategy='mean')),\n",
    "    (StandardScaler()),\n",
    "    (LinearRegression())\n",
    "    )"
   ]
  },
  {
   "cell_type": "markdown",
   "id": "621fb928",
   "metadata": {},
   "source": [
    "## Using your testset"
   ]
  },
  {
   "cell_type": "code",
   "execution_count": 13,
   "id": "41fd1341",
   "metadata": {},
   "outputs": [],
   "source": [
    "predictions_test = pipelines['DecisionTreeRegressor'].predict(X_test)"
   ]
  },
  {
   "cell_type": "code",
   "execution_count": 14,
   "id": "bc73a086",
   "metadata": {
    "scrolled": true
   },
   "outputs": [
    {
     "data": {
      "text/html": [
       "<div>\n",
       "<style scoped>\n",
       "    .dataframe tbody tr th:only-of-type {\n",
       "        vertical-align: middle;\n",
       "    }\n",
       "\n",
       "    .dataframe tbody tr th {\n",
       "        vertical-align: top;\n",
       "    }\n",
       "\n",
       "    .dataframe thead th {\n",
       "        text-align: right;\n",
       "    }\n",
       "</style>\n",
       "<table border=\"1\" class=\"dataframe\">\n",
       "  <thead>\n",
       "    <tr style=\"text-align: right;\">\n",
       "      <th></th>\n",
       "      <th>MedInc</th>\n",
       "      <th>HouseAge</th>\n",
       "      <th>AveRooms</th>\n",
       "      <th>AveBedrms</th>\n",
       "      <th>Population</th>\n",
       "      <th>AveOccup</th>\n",
       "      <th>Latitude</th>\n",
       "      <th>Longitude</th>\n",
       "      <th>predictions</th>\n",
       "      <th>actual</th>\n",
       "    </tr>\n",
       "  </thead>\n",
       "  <tbody>\n",
       "    <tr>\n",
       "      <th>14772</th>\n",
       "      <td>2.7361</td>\n",
       "      <td>14.0</td>\n",
       "      <td>4.206612</td>\n",
       "      <td>0.983471</td>\n",
       "      <td>1224.0</td>\n",
       "      <td>3.371901</td>\n",
       "      <td>32.57</td>\n",
       "      <td>-117.07</td>\n",
       "      <td>1.665118</td>\n",
       "      <td>0.93600</td>\n",
       "    </tr>\n",
       "    <tr>\n",
       "      <th>10105</th>\n",
       "      <td>3.6106</td>\n",
       "      <td>18.0</td>\n",
       "      <td>4.393468</td>\n",
       "      <td>1.026439</td>\n",
       "      <td>1590.0</td>\n",
       "      <td>2.472784</td>\n",
       "      <td>33.92</td>\n",
       "      <td>-117.95</td>\n",
       "      <td>1.788680</td>\n",
       "      <td>1.53600</td>\n",
       "    </tr>\n",
       "    <tr>\n",
       "      <th>20094</th>\n",
       "      <td>2.1250</td>\n",
       "      <td>26.0</td>\n",
       "      <td>37.063492</td>\n",
       "      <td>7.185185</td>\n",
       "      <td>416.0</td>\n",
       "      <td>2.201058</td>\n",
       "      <td>38.19</td>\n",
       "      <td>-120.03</td>\n",
       "      <td>0.859253</td>\n",
       "      <td>1.32500</td>\n",
       "    </tr>\n",
       "    <tr>\n",
       "      <th>19261</th>\n",
       "      <td>2.6576</td>\n",
       "      <td>23.0</td>\n",
       "      <td>5.163004</td>\n",
       "      <td>1.120879</td>\n",
       "      <td>1644.0</td>\n",
       "      <td>3.010989</td>\n",
       "      <td>38.44</td>\n",
       "      <td>-122.74</td>\n",
       "      <td>1.271987</td>\n",
       "      <td>1.47900</td>\n",
       "    </tr>\n",
       "    <tr>\n",
       "      <th>14139</th>\n",
       "      <td>2.5583</td>\n",
       "      <td>31.0</td>\n",
       "      <td>4.606335</td>\n",
       "      <td>1.133484</td>\n",
       "      <td>1263.0</td>\n",
       "      <td>2.857466</td>\n",
       "      <td>32.75</td>\n",
       "      <td>-117.07</td>\n",
       "      <td>1.271987</td>\n",
       "      <td>1.20700</td>\n",
       "    </tr>\n",
       "    <tr>\n",
       "      <th>...</th>\n",
       "      <td>...</td>\n",
       "      <td>...</td>\n",
       "      <td>...</td>\n",
       "      <td>...</td>\n",
       "      <td>...</td>\n",
       "      <td>...</td>\n",
       "      <td>...</td>\n",
       "      <td>...</td>\n",
       "      <td>...</td>\n",
       "      <td>...</td>\n",
       "    </tr>\n",
       "    <tr>\n",
       "      <th>11352</th>\n",
       "      <td>2.6442</td>\n",
       "      <td>23.0</td>\n",
       "      <td>4.134259</td>\n",
       "      <td>1.032407</td>\n",
       "      <td>1149.0</td>\n",
       "      <td>5.319444</td>\n",
       "      <td>33.75</td>\n",
       "      <td>-117.92</td>\n",
       "      <td>1.665118</td>\n",
       "      <td>1.56300</td>\n",
       "    </tr>\n",
       "    <tr>\n",
       "      <th>16121</th>\n",
       "      <td>3.7419</td>\n",
       "      <td>52.0</td>\n",
       "      <td>5.121891</td>\n",
       "      <td>1.034826</td>\n",
       "      <td>999.0</td>\n",
       "      <td>2.485075</td>\n",
       "      <td>37.79</td>\n",
       "      <td>-122.46</td>\n",
       "      <td>1.788680</td>\n",
       "      <td>5.00001</td>\n",
       "    </tr>\n",
       "    <tr>\n",
       "      <th>8976</th>\n",
       "      <td>2.8797</td>\n",
       "      <td>33.0</td>\n",
       "      <td>3.577922</td>\n",
       "      <td>1.054113</td>\n",
       "      <td>2475.0</td>\n",
       "      <td>2.678571</td>\n",
       "      <td>34.01</td>\n",
       "      <td>-118.41</td>\n",
       "      <td>1.665118</td>\n",
       "      <td>2.85300</td>\n",
       "    </tr>\n",
       "    <tr>\n",
       "      <th>8439</th>\n",
       "      <td>3.0132</td>\n",
       "      <td>44.0</td>\n",
       "      <td>4.905660</td>\n",
       "      <td>1.094340</td>\n",
       "      <td>392.0</td>\n",
       "      <td>3.698113</td>\n",
       "      <td>33.93</td>\n",
       "      <td>-118.36</td>\n",
       "      <td>1.271987</td>\n",
       "      <td>2.02500</td>\n",
       "    </tr>\n",
       "    <tr>\n",
       "      <th>13513</th>\n",
       "      <td>2.0391</td>\n",
       "      <td>38.0</td>\n",
       "      <td>4.691460</td>\n",
       "      <td>1.060606</td>\n",
       "      <td>1356.0</td>\n",
       "      <td>3.735537</td>\n",
       "      <td>34.12</td>\n",
       "      <td>-117.33</td>\n",
       "      <td>1.158727</td>\n",
       "      <td>0.70400</td>\n",
       "    </tr>\n",
       "  </tbody>\n",
       "</table>\n",
       "<p>4128 rows × 10 columns</p>\n",
       "</div>"
      ],
      "text/plain": [
       "       MedInc  HouseAge   AveRooms  AveBedrms  Population  AveOccup  Latitude  \\\n",
       "14772  2.7361      14.0   4.206612   0.983471      1224.0  3.371901     32.57   \n",
       "10105  3.6106      18.0   4.393468   1.026439      1590.0  2.472784     33.92   \n",
       "20094  2.1250      26.0  37.063492   7.185185       416.0  2.201058     38.19   \n",
       "19261  2.6576      23.0   5.163004   1.120879      1644.0  3.010989     38.44   \n",
       "14139  2.5583      31.0   4.606335   1.133484      1263.0  2.857466     32.75   \n",
       "...       ...       ...        ...        ...         ...       ...       ...   \n",
       "11352  2.6442      23.0   4.134259   1.032407      1149.0  5.319444     33.75   \n",
       "16121  3.7419      52.0   5.121891   1.034826       999.0  2.485075     37.79   \n",
       "8976   2.8797      33.0   3.577922   1.054113      2475.0  2.678571     34.01   \n",
       "8439   3.0132      44.0   4.905660   1.094340       392.0  3.698113     33.93   \n",
       "13513  2.0391      38.0   4.691460   1.060606      1356.0  3.735537     34.12   \n",
       "\n",
       "       Longitude  predictions   actual  \n",
       "14772    -117.07     1.665118  0.93600  \n",
       "10105    -117.95     1.788680  1.53600  \n",
       "20094    -120.03     0.859253  1.32500  \n",
       "19261    -122.74     1.271987  1.47900  \n",
       "14139    -117.07     1.271987  1.20700  \n",
       "...          ...          ...      ...  \n",
       "11352    -117.92     1.665118  1.56300  \n",
       "16121    -122.46     1.788680  5.00001  \n",
       "8976     -118.41     1.665118  2.85300  \n",
       "8439     -118.36     1.271987  2.02500  \n",
       "13513    -117.33     1.158727  0.70400  \n",
       "\n",
       "[4128 rows x 10 columns]"
      ]
     },
     "execution_count": 14,
     "metadata": {},
     "output_type": "execute_result"
    }
   ],
   "source": [
    "predictions = X_test.assign(predictions= predictions_test).assign(actual= y_test)\n",
    "# new_frame[\"prediction\"] = predictions_test\n",
    "# new_frame[\"actual\"] = y_test\n",
    "predictions"
   ]
  },
  {
   "cell_type": "code",
   "execution_count": 15,
   "id": "2e80e034",
   "metadata": {},
   "outputs": [
    {
     "name": "stdout",
     "output_type": "stream",
     "text": [
      "0.6300950669272195\n",
      "0.672373435256505\n",
      "0.6112568432827636\n"
     ]
    }
   ],
   "source": [
    "print(pipelines['DecisionTreeRegressor'].score(X_test,y_test))\n",
    "print(pipelines['RandomForestRegressor'].score(X_test,y_test))\n",
    "print(pipelines['LinearRegression'].score(X_test,y_test))"
   ]
  },
  {
   "cell_type": "code",
   "execution_count": 16,
   "id": "46b684d1",
   "metadata": {
    "scrolled": true
   },
   "outputs": [
    {
     "data": {
      "text/plain": [
       "Pipeline(steps=[('imputer', SimpleImputer()), ('std_scaler', StandardScaler()),\n",
       "                ('algorithm', RandomForestRegressor(max_depth=5))])"
      ]
     },
     "execution_count": 16,
     "metadata": {},
     "output_type": "execute_result"
    }
   ],
   "source": [
    "pipelines['RandomForestRegressor']"
   ]
  },
  {
   "cell_type": "markdown",
   "id": "b9b8028d",
   "metadata": {},
   "source": [
    "## Finding optimal hyperparameters with GridSearchCV"
   ]
  },
  {
   "cell_type": "code",
   "execution_count": 17,
   "id": "91636251",
   "metadata": {},
   "outputs": [],
   "source": [
    "pipelines = {}\n",
    "\n",
    "pipelines['RandomForestRegressor']= Pipeline([\n",
    "('imputer', SimpleImputer()),\n",
    "('std_scaler', StandardScaler()),\n",
    "('algorithm', RandomForestRegressor(max_depth=5))\n",
    "])"
   ]
  },
  {
   "cell_type": "code",
   "execution_count": 18,
   "id": "afd7bc9b",
   "metadata": {
    "scrolled": true
   },
   "outputs": [
    {
     "data": {
      "text/plain": [
       "{'memory': None,\n",
       " 'steps': [('imputer', SimpleImputer()),\n",
       "  ('std_scaler', StandardScaler()),\n",
       "  ('algorithm', RandomForestRegressor(max_depth=5))],\n",
       " 'verbose': False,\n",
       " 'imputer': SimpleImputer(),\n",
       " 'std_scaler': StandardScaler(),\n",
       " 'algorithm': RandomForestRegressor(max_depth=5),\n",
       " 'imputer__add_indicator': False,\n",
       " 'imputer__copy': True,\n",
       " 'imputer__fill_value': None,\n",
       " 'imputer__missing_values': nan,\n",
       " 'imputer__strategy': 'mean',\n",
       " 'imputer__verbose': 0,\n",
       " 'std_scaler__copy': True,\n",
       " 'std_scaler__with_mean': True,\n",
       " 'std_scaler__with_std': True,\n",
       " 'algorithm__bootstrap': True,\n",
       " 'algorithm__ccp_alpha': 0.0,\n",
       " 'algorithm__criterion': 'squared_error',\n",
       " 'algorithm__max_depth': 5,\n",
       " 'algorithm__max_features': 'auto',\n",
       " 'algorithm__max_leaf_nodes': None,\n",
       " 'algorithm__max_samples': None,\n",
       " 'algorithm__min_impurity_decrease': 0.0,\n",
       " 'algorithm__min_samples_leaf': 1,\n",
       " 'algorithm__min_samples_split': 2,\n",
       " 'algorithm__min_weight_fraction_leaf': 0.0,\n",
       " 'algorithm__n_estimators': 100,\n",
       " 'algorithm__n_jobs': None,\n",
       " 'algorithm__oob_score': False,\n",
       " 'algorithm__random_state': None,\n",
       " 'algorithm__verbose': 0,\n",
       " 'algorithm__warm_start': False}"
      ]
     },
     "execution_count": 18,
     "metadata": {},
     "output_type": "execute_result"
    }
   ],
   "source": [
    "pipelines['RandomForestRegressor'].get_params()"
   ]
  },
  {
   "cell_type": "code",
   "execution_count": 19,
   "id": "4ce0469c",
   "metadata": {},
   "outputs": [],
   "source": [
    "grid_parameters = {'imputer__strategy':['mean','median'],\n",
    "                  'algorithm__criterion':['squared_error', 'absolute_error'],\n",
    "                   'algorithm__n_estimators':[10,100],\n",
    "                   'algorithm__max_depth':[5,10,None]\n",
    "                  }"
   ]
  },
  {
   "cell_type": "code",
   "execution_count": 20,
   "id": "c8c497dd",
   "metadata": {},
   "outputs": [],
   "source": [
    "grid = GridSearchCV(pipelines['RandomForestRegressor'], grid_parameters, cv = 3, n_jobs = -1,verbose=2)"
   ]
  },
  {
   "cell_type": "code",
   "execution_count": 21,
   "id": "4f747cea",
   "metadata": {},
   "outputs": [
    {
     "name": "stdout",
     "output_type": "stream",
     "text": [
      "Fitting 3 folds for each of 24 candidates, totalling 72 fits\n",
      "[CV] END algorithm__criterion=squared_error, algorithm__max_depth=10, algorithm__n_estimators=10, imputer__strategy=median; total time=   0.5s\n",
      "[CV] END algorithm__criterion=squared_error, algorithm__max_depth=None, algorithm__n_estimators=10, imputer__strategy=median; total time=   0.7s\n",
      "[CV] END algorithm__criterion=squared_error, algorithm__max_depth=None, algorithm__n_estimators=100, imputer__strategy=median; total time=   6.6s\n",
      "[CV] END algorithm__criterion=absolute_error, algorithm__max_depth=10, algorithm__n_estimators=10, imputer__strategy=median; total time=  26.6s\n",
      "[CV] END algorithm__criterion=absolute_error, algorithm__max_depth=None, algorithm__n_estimators=10, imputer__strategy=median; total time=  28.2s\n",
      "[CV] END algorithm__criterion=squared_error, algorithm__max_depth=10, algorithm__n_estimators=10, imputer__strategy=median; total time=   0.5s\n",
      "[CV] END algorithm__criterion=squared_error, algorithm__max_depth=None, algorithm__n_estimators=100, imputer__strategy=mean; total time=   6.7s\n",
      "[CV] END algorithm__criterion=absolute_error, algorithm__max_depth=10, algorithm__n_estimators=10, imputer__strategy=mean; total time=  26.6s\n",
      "[CV] END algorithm__criterion=absolute_error, algorithm__max_depth=None, algorithm__n_estimators=10, imputer__strategy=median; total time=  29.6s\n",
      "[CV] END algorithm__criterion=squared_error, algorithm__max_depth=10, algorithm__n_estimators=10, imputer__strategy=mean; total time=   0.5s\n",
      "[CV] END algorithm__criterion=squared_error, algorithm__max_depth=None, algorithm__n_estimators=10, imputer__strategy=median; total time=   0.7s\n",
      "[CV] END algorithm__criterion=absolute_error, algorithm__max_depth=5, algorithm__n_estimators=10, imputer__strategy=mean; total time=  23.4s\n",
      "[CV] END algorithm__criterion=absolute_error, algorithm__max_depth=10, algorithm__n_estimators=100, imputer__strategy=mean; total time= 2.4min\n",
      "[CV] END algorithm__criterion=squared_error, algorithm__max_depth=10, algorithm__n_estimators=100, imputer__strategy=mean; total time=   4.4s\n",
      "[CV] END algorithm__criterion=absolute_error, algorithm__max_depth=5, algorithm__n_estimators=100, imputer__strategy=median; total time= 3.1min\n",
      "[CV] END algorithm__criterion=squared_error, algorithm__max_depth=5, algorithm__n_estimators=100, imputer__strategy=mean; total time=   2.5s\n",
      "[CV] END algorithm__criterion=absolute_error, algorithm__max_depth=5, algorithm__n_estimators=100, imputer__strategy=mean; total time= 3.7min\n",
      "[CV] END algorithm__criterion=squared_error, algorithm__max_depth=5, algorithm__n_estimators=10, imputer__strategy=mean; total time=   0.3s\n",
      "[CV] END algorithm__criterion=squared_error, algorithm__max_depth=10, algorithm__n_estimators=100, imputer__strategy=mean; total time=   4.3s\n",
      "[CV] END algorithm__criterion=absolute_error, algorithm__max_depth=5, algorithm__n_estimators=100, imputer__strategy=median; total time= 3.7min\n",
      "[CV] END algorithm__criterion=squared_error, algorithm__max_depth=5, algorithm__n_estimators=100, imputer__strategy=mean; total time=   2.6s\n",
      "[CV] END algorithm__criterion=absolute_error, algorithm__max_depth=5, algorithm__n_estimators=100, imputer__strategy=mean; total time= 4.1min\n",
      "[CV] END algorithm__criterion=squared_error, algorithm__max_depth=5, algorithm__n_estimators=10, imputer__strategy=median; total time=   0.3s\n",
      "[CV] END algorithm__criterion=squared_error, algorithm__max_depth=10, algorithm__n_estimators=100, imputer__strategy=median; total time=   4.3s\n",
      "[CV] END algorithm__criterion=absolute_error, algorithm__max_depth=5, algorithm__n_estimators=100, imputer__strategy=median; total time= 4.0min\n",
      "[CV] END algorithm__criterion=squared_error, algorithm__max_depth=5, algorithm__n_estimators=10, imputer__strategy=mean; total time=   0.3s\n",
      "[CV] END algorithm__criterion=squared_error, algorithm__max_depth=10, algorithm__n_estimators=100, imputer__strategy=median; total time=   4.3s\n",
      "[CV] END algorithm__criterion=absolute_error, algorithm__max_depth=5, algorithm__n_estimators=100, imputer__strategy=mean; total time= 4.1min\n",
      "[CV] END algorithm__criterion=squared_error, algorithm__max_depth=10, algorithm__n_estimators=10, imputer__strategy=mean; total time=   0.5s\n",
      "[CV] END algorithm__criterion=squared_error, algorithm__max_depth=None, algorithm__n_estimators=10, imputer__strategy=median; total time=   0.7s\n",
      "[CV] END algorithm__criterion=absolute_error, algorithm__max_depth=5, algorithm__n_estimators=10, imputer__strategy=mean; total time=  24.7s\n",
      "[CV] END algorithm__criterion=absolute_error, algorithm__max_depth=10, algorithm__n_estimators=100, imputer__strategy=median; total time= 3.8min\n",
      "[CV] END algorithm__criterion=squared_error, algorithm__max_depth=10, algorithm__n_estimators=10, imputer__strategy=median; total time=   0.5s\n",
      "[CV] END algorithm__criterion=squared_error, algorithm__max_depth=None, algorithm__n_estimators=100, imputer__strategy=mean; total time=   6.9s\n",
      "[CV] END algorithm__criterion=absolute_error, algorithm__max_depth=10, algorithm__n_estimators=10, imputer__strategy=median; total time=  27.1s\n",
      "[CV] END algorithm__criterion=absolute_error, algorithm__max_depth=None, algorithm__n_estimators=100, imputer__strategy=mean; total time= 3.7min\n",
      "[CV] END algorithm__criterion=squared_error, algorithm__max_depth=5, algorithm__n_estimators=100, imputer__strategy=median; total time=   2.4s\n",
      "[CV] END algorithm__criterion=absolute_error, algorithm__max_depth=5, algorithm__n_estimators=10, imputer__strategy=median; total time=  26.4s\n",
      "[CV] END algorithm__criterion=absolute_error, algorithm__max_depth=None, algorithm__n_estimators=10, imputer__strategy=mean; total time=  30.1s\n",
      "[CV] END algorithm__criterion=absolute_error, algorithm__max_depth=None, algorithm__n_estimators=100, imputer__strategy=median; total time= 3.3min\n",
      "[CV] END algorithm__criterion=squared_error, algorithm__max_depth=10, algorithm__n_estimators=10, imputer__strategy=mean; total time=   0.5s\n",
      "[CV] END algorithm__criterion=squared_error, algorithm__max_depth=None, algorithm__n_estimators=10, imputer__strategy=mean; total time=   0.7s\n",
      "[CV] END algorithm__criterion=squared_error, algorithm__max_depth=None, algorithm__n_estimators=100, imputer__strategy=median; total time=   6.6s\n",
      "[CV] END algorithm__criterion=absolute_error, algorithm__max_depth=10, algorithm__n_estimators=100, imputer__strategy=mean; total time= 4.2min\n",
      "[CV] END algorithm__criterion=squared_error, algorithm__max_depth=5, algorithm__n_estimators=100, imputer__strategy=mean; total time=   2.4s\n",
      "[CV] END algorithm__criterion=absolute_error, algorithm__max_depth=5, algorithm__n_estimators=10, imputer__strategy=median; total time=  22.6s\n",
      "[CV] END algorithm__criterion=absolute_error, algorithm__max_depth=10, algorithm__n_estimators=100, imputer__strategy=median; total time= 4.1min\n",
      "[CV] END algorithm__criterion=squared_error, algorithm__max_depth=5, algorithm__n_estimators=10, imputer__strategy=median; total time=   0.3s\n",
      "[CV] END algorithm__criterion=squared_error, algorithm__max_depth=None, algorithm__n_estimators=10, imputer__strategy=mean; total time=   0.7s\n",
      "[CV] END algorithm__criterion=squared_error, algorithm__max_depth=None, algorithm__n_estimators=100, imputer__strategy=median; total time=   6.9s\n",
      "[CV] END algorithm__criterion=absolute_error, algorithm__max_depth=10, algorithm__n_estimators=100, imputer__strategy=mean; total time= 4.4min\n",
      "[CV] END algorithm__criterion=squared_error, algorithm__max_depth=5, algorithm__n_estimators=100, imputer__strategy=median; total time=   2.4s\n",
      "[CV] END algorithm__criterion=absolute_error, algorithm__max_depth=5, algorithm__n_estimators=10, imputer__strategy=mean; total time=  22.8s\n",
      "[CV] END algorithm__criterion=absolute_error, algorithm__max_depth=10, algorithm__n_estimators=100, imputer__strategy=median; total time= 4.3min\n",
      "[CV] END algorithm__criterion=squared_error, algorithm__max_depth=5, algorithm__n_estimators=100, imputer__strategy=median; total time=   2.4s\n",
      "[CV] END algorithm__criterion=absolute_error, algorithm__max_depth=5, algorithm__n_estimators=10, imputer__strategy=median; total time=  24.6s\n",
      "[CV] END algorithm__criterion=absolute_error, algorithm__max_depth=None, algorithm__n_estimators=10, imputer__strategy=mean; total time=  29.2s\n",
      "[CV] END algorithm__criterion=absolute_error, algorithm__max_depth=None, algorithm__n_estimators=100, imputer__strategy=mean; total time= 3.8min\n",
      "[CV] END algorithm__criterion=squared_error, algorithm__max_depth=5, algorithm__n_estimators=10, imputer__strategy=mean; total time=   0.3s\n",
      "[CV] END algorithm__criterion=squared_error, algorithm__max_depth=10, algorithm__n_estimators=100, imputer__strategy=median; total time=   4.3s\n",
      "[CV] END algorithm__criterion=absolute_error, algorithm__max_depth=10, algorithm__n_estimators=10, imputer__strategy=mean; total time=  26.7s\n",
      "[CV] END algorithm__criterion=absolute_error, algorithm__max_depth=None, algorithm__n_estimators=10, imputer__strategy=mean; total time=  27.1s\n",
      "[CV] END algorithm__criterion=absolute_error, algorithm__max_depth=None, algorithm__n_estimators=100, imputer__strategy=median; total time= 3.9min\n",
      "[CV] END algorithm__criterion=squared_error, algorithm__max_depth=10, algorithm__n_estimators=100, imputer__strategy=mean; total time=   4.5s\n",
      "[CV] END algorithm__criterion=absolute_error, algorithm__max_depth=10, algorithm__n_estimators=10, imputer__strategy=mean; total time=  28.9s\n",
      "[CV] END algorithm__criterion=absolute_error, algorithm__max_depth=None, algorithm__n_estimators=10, imputer__strategy=median; total time=  28.7s\n",
      "[CV] END algorithm__criterion=absolute_error, algorithm__max_depth=None, algorithm__n_estimators=100, imputer__strategy=median; total time= 3.9min\n",
      "[CV] END algorithm__criterion=squared_error, algorithm__max_depth=5, algorithm__n_estimators=10, imputer__strategy=median; total time=   0.3s\n",
      "[CV] END algorithm__criterion=squared_error, algorithm__max_depth=None, algorithm__n_estimators=10, imputer__strategy=mean; total time=   0.7s\n",
      "[CV] END algorithm__criterion=squared_error, algorithm__max_depth=None, algorithm__n_estimators=100, imputer__strategy=mean; total time=   6.6s\n",
      "[CV] END algorithm__criterion=absolute_error, algorithm__max_depth=10, algorithm__n_estimators=10, imputer__strategy=median; total time=  28.8s\n",
      "[CV] END algorithm__criterion=absolute_error, algorithm__max_depth=None, algorithm__n_estimators=100, imputer__strategy=mean; total time= 4.3min\n",
      "CPU times: user 6min 47s, sys: 371 ms, total: 6min 48s\n",
      "Wall time: 11min 46s\n"
     ]
    },
    {
     "data": {
      "text/plain": [
       "GridSearchCV(cv=3,\n",
       "             estimator=Pipeline(steps=[('imputer', SimpleImputer()),\n",
       "                                       ('std_scaler', StandardScaler()),\n",
       "                                       ('algorithm',\n",
       "                                        RandomForestRegressor(max_depth=5))]),\n",
       "             n_jobs=-1,\n",
       "             param_grid={'algorithm__criterion': ['squared_error',\n",
       "                                                  'absolute_error'],\n",
       "                         'algorithm__max_depth': [5, 10, None],\n",
       "                         'algorithm__n_estimators': [10, 100],\n",
       "                         'imputer__strategy': ['mean', 'median']},\n",
       "             verbose=2)"
      ]
     },
     "execution_count": 21,
     "metadata": {},
     "output_type": "execute_result"
    }
   ],
   "source": [
    "%%time \n",
    "grid.fit(X_train,y_train)"
   ]
  },
  {
   "cell_type": "code",
   "execution_count": 22,
   "id": "be1323cd",
   "metadata": {},
   "outputs": [
    {
     "name": "stdout",
     "output_type": "stream",
     "text": [
      "The best parameters are:{'algorithm__criterion': 'absolute_error', 'algorithm__max_depth': None, 'algorithm__n_estimators': 100, 'imputer__strategy': 'mean'}\n",
      "The best score was:0.80\n"
     ]
    }
   ],
   "source": [
    "print(f'The best parameters are:{grid.best_params_}')\n",
    "print(f'The best score was:{grid.best_score_:.2f}')"
   ]
  },
  {
   "cell_type": "code",
   "execution_count": 23,
   "id": "30e1a8bc",
   "metadata": {},
   "outputs": [
    {
     "name": "stdout",
     "output_type": "stream",
     "text": [
      "0.82\n"
     ]
    }
   ],
   "source": [
    "best_model = grid.best_estimator_\n",
    "print(f'{best_model.score(X_test,y_test):.2f}')"
   ]
  },
  {
   "cell_type": "markdown",
   "id": "73e32680",
   "metadata": {},
   "source": [
    "## RandomizedSearchCV"
   ]
  },
  {
   "cell_type": "code",
   "execution_count": 24,
   "id": "d0e4e139",
   "metadata": {},
   "outputs": [],
   "source": [
    "from sklearn.model_selection import RandomizedSearchCV\n",
    "\n",
    "rs = RandomizedSearchCV(\n",
    "    pipelines['RandomForestRegressor'], grid_parameters, n_iter=10\n",
    ")"
   ]
  },
  {
   "cell_type": "code",
   "execution_count": 25,
   "id": "a4512f80",
   "metadata": {},
   "outputs": [
    {
     "name": "stdout",
     "output_type": "stream",
     "text": [
      "CPU times: user 31min 50s, sys: 83.4 ms, total: 31min 50s\n",
      "Wall time: 31min 50s\n"
     ]
    }
   ],
   "source": [
    "%%time \n",
    "rs = rs.fit(X_train, y_train)"
   ]
  },
  {
   "cell_type": "code",
   "execution_count": 26,
   "id": "a32d6dd7",
   "metadata": {},
   "outputs": [
    {
     "name": "stdout",
     "output_type": "stream",
     "text": [
      "Pipeline(steps=[('imputer', SimpleImputer(strategy='median')),\n",
      "                ('std_scaler', StandardScaler()),\n",
      "                ('algorithm',\n",
      "                 RandomForestRegressor(criterion='absolute_error'))])\n"
     ]
    }
   ],
   "source": [
    "print(rs.best_estimator_)"
   ]
  },
  {
   "cell_type": "markdown",
   "id": "94ea7d1d-7d6d-4d27-990c-ecd12e53cce8",
   "metadata": {
    "tags": []
   },
   "source": [
    "## Versioning your model"
   ]
  },
  {
   "cell_type": "code",
   "execution_count": 27,
   "id": "47342bf6",
   "metadata": {},
   "outputs": [],
   "source": [
    "model_version = \"1\"\n",
    "\n",
    "filename = f'pipeline_random_forest_v{model_version}-{scikit_version}.pk1'\n",
    "pickle.dump(best_model, open(filename, 'wb'))"
   ]
  },
  {
   "cell_type": "code",
   "execution_count": 28,
   "id": "fe6f1c04",
   "metadata": {},
   "outputs": [
    {
     "data": {
      "text/plain": [
       "Pipeline(steps=[('imputer', SimpleImputer()), ('std_scaler', StandardScaler()),\n",
       "                ('algorithm',\n",
       "                 RandomForestRegressor(criterion='absolute_error'))])"
      ]
     },
     "execution_count": 28,
     "metadata": {},
     "output_type": "execute_result"
    }
   ],
   "source": [
    "# Load the model itself\n",
    "pickle_file = pickle.load(open(filename, 'rb'))\n",
    "pickle_file"
   ]
  },
  {
   "cell_type": "code",
   "execution_count": 29,
   "id": "9b53921a",
   "metadata": {
    "scrolled": true
   },
   "outputs": [
    {
     "data": {
      "text/plain": [
       "['pipeline_random_forest_joblib_v1-1.0.1.pk1']"
      ]
     },
     "execution_count": 29,
     "metadata": {},
     "output_type": "execute_result"
    }
   ],
   "source": [
    "# Using joblib\n",
    "model_version = \"1\"\n",
    "\n",
    "filename = f'pipeline_random_forest_joblib_v{model_version}-{scikit_version}.pk1'\n",
    " \n",
    "joblib.dump(best_model, filename, compress=7)"
   ]
  },
  {
   "cell_type": "code",
   "execution_count": 30,
   "id": "5f61f021",
   "metadata": {},
   "outputs": [
    {
     "data": {
      "text/plain": [
       "['random_forest_joblib_v1-1.0.1.pk1']"
      ]
     },
     "execution_count": 30,
     "metadata": {},
     "output_type": "execute_result"
    }
   ],
   "source": [
    "# Using joblib\n",
    "model_version = \"1\"\n",
    "\n",
    "filename = f'random_forest_joblib_v{model_version}-{scikit_version}.pk1'\n",
    " \n",
    "joblib.dump(pipelines['RandomForestRegressor'], filename, compress=7)"
   ]
  },
  {
   "cell_type": "code",
   "execution_count": 31,
   "id": "9b919a59",
   "metadata": {},
   "outputs": [
    {
     "data": {
      "text/plain": [
       "Pipeline(steps=[('imputer', SimpleImputer()), ('std_scaler', StandardScaler()),\n",
       "                ('algorithm', RandomForestRegressor(max_depth=5))])"
      ]
     },
     "execution_count": 31,
     "metadata": {},
     "output_type": "execute_result"
    }
   ],
   "source": [
    "# Load the joblib file\n",
    "pickle_file = joblib.load(filename)\n",
    "pickle_file"
   ]
  }
 ],
 "metadata": {
  "kernelspec": {
   "display_name": "Python 3 (ipykernel)",
   "language": "python",
   "name": "python3"
  },
  "language_info": {
   "codemirror_mode": {
    "name": "ipython",
    "version": 3
   },
   "file_extension": ".py",
   "mimetype": "text/x-python",
   "name": "python",
   "nbconvert_exporter": "python",
   "pygments_lexer": "ipython3",
   "version": "3.10.8"
  }
 },
 "nbformat": 4,
 "nbformat_minor": 5
}
